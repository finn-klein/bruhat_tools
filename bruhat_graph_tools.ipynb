{
 "cells": [
  {
   "cell_type": "code",
   "execution_count": 3,
   "metadata": {},
   "outputs": [],
   "source": [
    "import networkx as nx\n",
    "from networkx.algorithms.isomorphism import DiGraphMatcher, GraphMatcher"
   ]
  },
  {
   "cell_type": "markdown",
   "metadata": {},
   "source": [
    "## Interfacing Sage and NetworkX"
   ]
  },
  {
   "cell_type": "code",
   "execution_count": 5,
   "metadata": {},
   "outputs": [],
   "source": [
    "def convert_sage_edges_to_gt(edge_list):\n",
    "    \"\"\"\n",
    "    Accepts list of edges edge_list in the format given by sage\n",
    "    Returns list of edges in the format required by graph-tool\n",
    "    \"\"\"\n",
    "    \n",
    "    return [(str(e[0]), str(e[1])) for e in edge_list]\n",
    "\n",
    "def get_nx_bruhat_interval(W, x, y):\n",
    "    bg = W.bruhat_graph(x, y)\n",
    "    edges = convert_sage_edges_to_gt(bg.edges())\n",
    "    G = nx.DiGraph()\n",
    "    G.add_edges_from(edges)\n",
    "    return G"
   ]
  },
  {
   "cell_type": "markdown",
   "metadata": {},
   "source": [
    "## Example graphs"
   ]
  },
  {
   "cell_type": "code",
   "execution_count": 8,
   "metadata": {},
   "outputs": [],
   "source": [
    "def k_crown(k):\n",
    "    \"\"\"\n",
    "    Parameters:\n",
    "        k : Nat\n",
    "    \n",
    "    Returns the k-crown graph, with vertices labelled from \"x(0)\" to \"x(2k+1)\".\n",
    "    \"\"\"\n",
    "\n",
    "    edges = []\n",
    "    # Edges from bottom vertex to row 1\n",
    "    for i in range(1, k+1):\n",
    "        edges.append((\"x(0)\", f\"x({i})\"))\n",
    "    # Row 1 to row 2\n",
    "    ## Margin\n",
    "    edges += [(\"x(1)\", f\"x({k+1})\"), (\"x(1)\", f\"x({k+2})\")]\n",
    "    edges += [(f\"x({k})\", f\"x({2*k})\"), (f\"x({k})\", f\"x({2*k-1})\")]\n",
    "    ## Middle\n",
    "    for i in range(2, k):\n",
    "        edges += [(f\"x({i})\", f\"x({k+i-1})\"), (f\"x({i})\", f\"x({k+i+1})\")]\n",
    "    # Row 2 to row 3\n",
    "    for i in range(1, k+1):\n",
    "        edges.append((f\"x({k+i})\", f\"x({2*k+1})\"))\n",
    "    out = nx.DiGraph()\n",
    "    out.add_edges_from(edges)\n",
    "    return out"
   ]
  },
  {
   "cell_type": "markdown",
   "metadata": {},
   "source": [
    "## Operations on Graphs"
   ]
  },
  {
   "cell_type": "markdown",
   "metadata": {},
   "source": [
    "### Up- and downsets of vertices in directed graphs"
   ]
  },
  {
   "cell_type": "code",
   "execution_count": null,
   "metadata": {},
   "outputs": [],
   "source": [
    "from networkx.algorithms.traversal.breadth_first_search import bfs_tree\n",
    "\n",
    "def up(G, x):\n",
    "    return list(bfs_tree(G, x))\n",
    "\n",
    "def down(G, x):\n",
    "    return list(bfs_tree(G.reverse(), x))"
   ]
  },
  {
   "cell_type": "markdown",
   "metadata": {},
   "source": [
    "### $k$-diamond closures"
   ]
  },
  {
   "cell_type": "code",
   "execution_count": null,
   "metadata": {},
   "outputs": [],
   "source": [
    "def diamond_closure(G, X, verbose=False):\n",
    "    \"\"\"\n",
    "    Arguments:\n",
    "        G : DiGraph\n",
    "        X : full subgraph of G (encoded by list of vertices)\n",
    "    Compute the diamond closure of G (the smallest full subgraph of G which contains X and is diamond closed)\n",
    "    \"\"\"\n",
    "    \n",
    "    all_verts = X\n",
    "    # nodes added in the last iteration\n",
    "    last_verts = all_verts\n",
    "    \n",
    "    # Iterate until stable: \n",
    "    while True:\n",
    "        if verbose:\n",
    "            print(\"-----\")\n",
    "        new_verts = []\n",
    "        # Go through all diamonds d of G containing at least one node from last_verts\n",
    "        for d in list_diamonds(G):\n",
    "            if len([x for x in d if x in last_verts]) == 0:\n",
    "                continue\n",
    "            # Check if three nodes of d are contained in all_verts (and one isn't)\n",
    "            if len([x for x in d if x in all_verts]) != 3:\n",
    "                continue\n",
    "            if verbose:\n",
    "                print(d)\n",
    "            # Add the remaining node to new_verts\n",
    "            new_node = [x for x in d if x not in all_verts][0]\n",
    "            if new_node not in new_verts:\n",
    "                new_verts.append(new_node)\n",
    "        # Add the vertices picked up in this iteration to all_verts\n",
    "        all_verts += new_verts\n",
    "        last_verts = new_verts\n",
    "        # If we didn't add any new nodes, then all_verts is already diamond closed.\n",
    "        if new_verts == []:\n",
    "            break\n",
    "        if verbose:\n",
    "            print(\"new vertices: \", new_verts)\n",
    "    return sorted(all_verts, key=len)"
   ]
  },
  {
   "cell_type": "code",
   "execution_count": null,
   "metadata": {},
   "outputs": [],
   "source": [
    "def k_diamond_closure(G, seed, k=2):\n",
    "    \"\"\"\n",
    "    Parameters:\n",
    "        G : nx.DiGraph\n",
    "        seed -- List of seed vertices\n",
    "        k : minimal admissible index of overdetermination\n",
    "\n",
    "    Computes the k-diamond closure and returns a list of its vertices\n",
    "    \"\"\"\n",
    "\n",
    "    known = seed\n",
    "    new_vertices = [\"foo\"]\n",
    "    all_new = []\n",
    "    while len(new_vertices) > 0:\n",
    "        new_vertices = []\n",
    "        # Add all nodes which are overdetermined from current knowledge\n",
    "        for x in G.nodes():\n",
    "            if is_overdetermined(x, known, G)[0]:\n",
    "                new_vertices.append(x)\n",
    "        known += new_vertices\n",
    "        all_new += new_vertices\n",
    "    \n",
    "    return known, all_new"
   ]
  },
  {
   "cell_type": "markdown",
   "metadata": {},
   "source": [
    "## Graph Statistics and Checks"
   ]
  },
  {
   "cell_type": "code",
   "execution_count": null,
   "metadata": {},
   "outputs": [],
   "source": [
    "def list_diamonds(G):\n",
    "    \"\"\"\n",
    "    Accepts a directed graph G\n",
    "    Returns a list of vertex sets of diamonds in G\n",
    "    \"\"\"\n",
    "    \n",
    "    # Create the template graph\n",
    "    template = nx.DiGraph()\n",
    "    template.add_edges_from([(0, 1), (0, 2), (1, 3), (2, 3)])\n",
    "\n",
    "    # Initialize the matcher\n",
    "    matcher = DiGraphMatcher(G, template)\n",
    "\n",
    "    # Find all subgraphs isomorphic to the template\n",
    "    subgraphs_with_redundancy = [mapping for mapping in matcher.subgraph_isomorphisms_iter()]\n",
    "\n",
    "    subgraphs = []\n",
    "    for s in subgraphs_with_redundancy:\n",
    "        vertex_set = set(s.keys())\n",
    "        if vertex_set in subgraphs:\n",
    "            continue\n",
    "        subgraphs.append(vertex_set)\n",
    "    \n",
    "    return subgraphs"
   ]
  },
  {
   "cell_type": "code",
   "execution_count": 11,
   "metadata": {},
   "outputs": [],
   "source": [
    "# Helper function, ignore\n",
    "def reverse_dict(d):\n",
    "    \"\"\"\n",
    "    Reverse lookup a dictionary.\n",
    "    No checks about double values are implemented (dangerous move)\n",
    "    \"\"\"\n",
    "    d_out = dict()\n",
    "    for key in d.keys():\n",
    "        d_out[d[key]] = key\n",
    "    return d_out \n",
    "\n",
    "# Main function\n",
    "def sits_inside_k_crown(G, T, phi, k):\n",
    "    \"\"\"\n",
    "    Parameters:\n",
    "        G : DiGraph\n",
    "        T : DiGraph -- some template graph\n",
    "        phi : mapping from T to G\n",
    "        k : crown index\n",
    "\n",
    "    Checks if the image of phi is contained in some k-crown in G.\n",
    "    \"\"\"\n",
    "    ### COMPATIBILITY ###\n",
    "    # Remove edge directions from G, T\n",
    "    G = nx.Graph(G)\n",
    "    T = nx.Graph(T)\n",
    "    # Turn phi into map\n",
    "    phi_map = reverse_dict(phi)\n",
    "\n",
    "    # List of embeddings psi: k-crown --> G\n",
    "    crown = k_crown(k)\n",
    "    crown = nx.Graph(crown)\n",
    "    psi_matcher = GraphMatcher(G, crown)\n",
    "    #print(\"psi_matcher : \", list(psi_matcher.subgraph_isomorphisms_iter()))\n",
    "\n",
    "    # List of embeddings phi_bar: T --> k_crown\n",
    "    phi_bar_matcher = GraphMatcher(crown, T)\n",
    "    #print(\"phi_bar_matcher : \", list(phi_bar_matcher.subgraph_isomorphisms_iter()))\n",
    "\n",
    "    some_commutes = False\n",
    "    for psi in psi_matcher.subgraph_isomorphisms_iter():\n",
    "        for phi_bar in phi_bar_matcher.subgraph_isomorphisms_iter():\n",
    "            # Check if phi = psi \\circ phi_bar\n",
    "            # raise NotImplementedError(\"Finn müde finn schlafen\")\n",
    "            # Turn the matchers into maps\n",
    "            psi_map = reverse_dict(psi)\n",
    "            phi_bar_map = reverse_dict(phi_bar)\n",
    "\n",
    "            commutes = all([psi_map[phi_bar_map[t]] == phi_map[t] for t in T.nodes()])\n",
    "            if commutes:\n",
    "                some_commutes = True\n",
    "                break\n",
    "    \n",
    "    return some_commutes"
   ]
  },
  {
   "cell_type": "code",
   "execution_count": 12,
   "metadata": {},
   "outputs": [],
   "source": [
    "def is_overdetermined(x, known, G, k=2):\n",
    "    \"\"\"\n",
    "    Parameters: \n",
    "        x : Vertex of graph G\n",
    "        known : Subset of \"known\" vertices\n",
    "        G : DiGraph\n",
    "        k : Nat - minimal degree of overdetermination\n",
    "\n",
    "    Checks if a vertex x lies on k or more diamonds in a common crown\n",
    "    \"\"\"\n",
    "\n",
    "    if k > 2:\n",
    "        raise NotImplementedError(\"k-closure criterion for k >= 3 not yet implemented.\")\n",
    "    \n",
    "    # Blueprint graph: two diamonds touching in an edge.\n",
    "    template = nx.DiGraph()\n",
    "    template.add_edges_from([(0, 1), (0, 2), (1, 3), (2, 3), (2, 4), (3, 5), (4, 5)])\n",
    "    template = nx.Graph(template)\n",
    "\n",
    "    # Helper function: Determine if an embedding of template into G\n",
    "    #  has enough (i.e. five) known vertices\n",
    "    template_is_known = lambda phi : len([x for x in phi.keys() if x in known]) == 5 \n",
    "\n",
    "    # Initialize the matcher\n",
    "    matcher = GraphMatcher(G, template)\n",
    "\n",
    "    # Find all subgraphs isomorphic to the template (with redundancy)\n",
    "    subgraphs = list(matcher.subgraph_isomorphisms_iter())\n",
    "    # Require that x is mapped to 3 under mapping to eliminate one choice of automorphism\n",
    "    subgraphs = [g for g in subgraphs if reverse_dict(g)[3] == x]\n",
    "    # Require that the images of all vertices but 3 are known\n",
    "    subgraphs = [g for g in subgraphs if template_is_known(g)]\n",
    "    # Check if one of the subgraphs sits inside of some k-crown in G.\n",
    "    #  The maximum crown index in G is less than or equal to the maximum degree of any vertex of G.\n",
    "    max_crown_idx = max(dict(G.degree()).values())\n",
    "    subgraphs = [g for g in subgraphs if any([sits_inside_k_crown(G, template, g, k) for k in range(3, max_crown_idx+1)])]\n",
    "    # If at least one such mapping exists, then x is overdetermined.\n",
    "    return len(subgraphs) > 0, subgraphs"
   ]
  },
  {
   "cell_type": "code",
   "execution_count": 14,
   "metadata": {},
   "outputs": [],
   "source": [
    "def is_diamond_closed(G, X):\n",
    "    return len(X) == len(diamond_closure(G, X))"
   ]
  }
 ],
 "metadata": {
  "kernelspec": {
   "display_name": "SageMath 10.2",
   "language": "sage",
   "name": "sagemath"
  },
  "language_info": {
   "codemirror_mode": {
    "name": "ipython",
    "version": 3
   },
   "file_extension": ".py",
   "mimetype": "text/x-python",
   "name": "python",
   "nbconvert_exporter": "python",
   "pygments_lexer": "ipython3",
   "version": "3.11.9"
  }
 },
 "nbformat": 4,
 "nbformat_minor": 2
}
